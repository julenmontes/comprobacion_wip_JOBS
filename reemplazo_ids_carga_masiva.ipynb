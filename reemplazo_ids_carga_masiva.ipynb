{
 "cells": [
  {
   "attachments": {},
   "cell_type": "markdown",
   "metadata": {},
   "source": [
    "# IDS CARGA MASIVA\n",
    "Este Script tomará el excel de carga masiva, y sustituirá el id previo de cada regla si lo encuentra por el id funcional.\n",
    "\n",
    "Es necesario rellanar el csv `.\\reemplazo.csv` y hacer pull de los repositorios a modificar.  \n",
    "Ejemplo:  \n",
    "> old,new,confs  \n",
    "> GL_MVP_t_re4m_virtual_assistant_message_3.1_000,2882f7df11,RE4M_virtual-assistant-message_MRField.conf  \n",
    "\n",
    "Automaticamente se traerá los confs los reemplazara y los sustituirá por los confs en el repo.  "
   ]
  },
  {
   "cell_type": "code",
   "execution_count": 1,
   "metadata": {},
   "outputs": [],
   "source": [
    "import re\n",
    "import os\n",
    "import pandas as pd\n",
    "import shutil\n",
    "import collections\n",
    "\n",
    "from pyhocon.config_parser import STR_SUBSTITUTION\n",
    "\n",
    "from pyhocon import ConfigFactory"
   ]
  },
  {
   "cell_type": "code",
   "execution_count": 2,
   "metadata": {},
   "outputs": [],
   "source": [
    "confs_directory = 'reemplazo_confs'\n",
    "reemplazo_file = 'reemplazo.csv'"
   ]
  },
  {
   "cell_type": "code",
   "execution_count": 3,
   "metadata": {},
   "outputs": [],
   "source": [
    "def parser_conf(conf_content, replace_ids):\n",
    "    conf_data = ConfigFactory.parse_string(conf_content, resolve=False, unresolved_value=STR_SUBSTITUTION)\n",
    "    rules = conf_data.get_list('hammurabi.rules')\n",
    "    for rule in rules:\n",
    "        prev_id = rule.config.id\n",
    "        try:\n",
    "            new_id = replace_ids[prev_id]\n",
    "            pattern = r'\\n\\s*id\\s*[:|=]\\s*\"*{}\"*\\s*\\n'.format(re.escape(prev_id))\n",
    "            replacement = r'\\n\\t\\t\\t\\tid:\"{}\"\\n'.format(new_id)\n",
    "            conf_content = re.sub(pattern, replacement, conf_content)\n",
    "        except Exception as e:\n",
    "            try:\n",
    "                new_id = replace_ids[str(prev_id)]\n",
    "                pattern = r'\\n\\s*id\\s*[:|=]\\s*\"*{}\"*\\s*\\n'.format(re.escape(str(prev_id)))\n",
    "                replacement = r'\\n\\t\\t\\t\\tid:\"{}\"\\n'.format(new_id)\n",
    "                conf_content = re.sub(pattern, replacement, conf_content)\n",
    "            except Exception as e:\n",
    "                print(\"ERROR\" ,e)\n",
    "    return conf_content\n",
    "\n",
    "def process_config_files(directory, replace_ids_dict):\n",
    "    for filename in os.listdir(directory):\n",
    "        if filename.endswith(\".conf\"):\n",
    "            file_path = os.path.join(directory, filename)\n",
    "            with open(file_path, \"r\") as file:\n",
    "                conf_content = file.read()\n",
    "\n",
    "            new_content = parser_conf(conf_content, replace_ids_dict)\n",
    "\n",
    "            with open(file_path, \"w\") as file:\n",
    "                file.write(new_content)\n"
   ]
  },
  {
   "cell_type": "code",
   "execution_count": 4,
   "metadata": {},
   "outputs": [
    {
     "name": "stdout",
     "output_type": "stream",
     "text": [
      "- CONFS:\n",
      "['L9CT_prod-assets-oilgas_MRField.conf', 'L9CT_prod-assets-oilgas-annual_MRField.conf', 'EJB6_digital-sales_MRField.conf', 'L9CT_company-metric-year-cntry_MRField.conf', 'L9CT_company-metric-year-cntry_L9CT_esg-ext-data-companies_MMRule.conf']\n",
      "\n",
      "- RULE replaces:\n"
     ]
    },
    {
     "data": {
      "text/plain": [
       "{'GL_MVP_t_ejb6_digital_sales_3.5_002': '28ada4d9a3',\n",
       " 'GL_MVP_t_l9ct_company_metric_year_cntry_3.1_000': '28ada4da8d',\n",
       " 'GL_MVP_t_l9ct_company_metric_year_cntry_3.1_001': '28ada4db5b',\n",
       " 'GL_MVP_t_l9ct_company_metric_year_cntry_3.2_000': '28ada4dc26',\n",
       " 'GL_MVP_t_l9ct_company_metric_year_cntry_3.2_001': '28ada4dced',\n",
       " 'GL_MVP_t_l9ct_company_metric_year_cntry_3.5_000': '28ada4ddaf',\n",
       " 'GL_MVP_t_l9ct_company_metric_year_cntry_3.5_001': '28ada4de86',\n",
       " 'GL_MVP_t_l9ct_company_metric_year_cntry_3.5_002': '28ada4df4d',\n",
       " 'GL_MVP_t_l9ct_prod_assets_oilgas_3.5_000': '28ada4e021',\n",
       " 'GL_MVP_t_l9ct_prod_assets_oilgas_3.5_001': '28ada4e0ef',\n",
       " 'GL_MVP_t_l9ct_prod_assets_oilgas_3.5_002': '28ada4e1cd',\n",
       " 'GL_MVP_t_l9ct_prod_assets_oilgas_annual_3.5_000': '28ada4e2a3',\n",
       " 'GL_MVP_t_l9ct_prod_assets_oilgas_annual_3.5_001': '28ada4e375',\n",
       " 'GL_STR_t_l9ct_company_metric_year_cntry_4.2_000': '28ada4e43c',\n",
       " 'GL_STR_t_l9ct_company_metric_year_cntry_4.3_00N': '28ada4e4f9',\n",
       " 'GL_STR_t_l9ct_company_metric_year_cntry_5.2_00N': '28ada4e5c2'}"
      ]
     },
     "execution_count": 4,
     "metadata": {},
     "output_type": "execute_result"
    }
   ],
   "source": [
    "df = pd.read_csv('reemplazo.csv')\n",
    "confs = list(df.confs.dropna().unique())\n",
    "print('- CONFS:')\n",
    "print(confs)\n",
    "ids             = df['new'].tolist()\n",
    "previous_ids    = df['old'].tolist()\n",
    "print('\\n- RULE replaces:')\n",
    "replace_ids_dict = {prev_id: new_id for new_id, prev_id in zip(ids, previous_ids)}\n",
    "replace_ids_dict"
   ]
  },
  {
   "cell_type": "code",
   "execution_count": 5,
   "metadata": {},
   "outputs": [
    {
     "data": {
      "text/plain": [
       "16"
      ]
     },
     "execution_count": 5,
     "metadata": {},
     "output_type": "execute_result"
    }
   ],
   "source": [
    "len(replace_ids_dict)"
   ]
  },
  {
   "cell_type": "code",
   "execution_count": 6,
   "metadata": {},
   "outputs": [
    {
     "name": "stdout",
     "output_type": "stream",
     "text": [
      "hay ids duplicados?\n",
      "[]\n"
     ]
    }
   ],
   "source": [
    "print('hay ids duplicados?')\n",
    "print([item for item, count in collections.Counter(ids).items() if count > 1])"
   ]
  },
  {
   "cell_type": "code",
   "execution_count": 7,
   "metadata": {},
   "outputs": [
    {
     "name": "stdout",
     "output_type": "stream",
     "text": [
      "['L9CT_prod-assets-oilgas_MRField.conf', 'L9CT_prod-assets-oilgas-annual_MRField.conf', 'EJB6_digital-sales_MRField.conf', 'L9CT_company-metric-year-cntry_MRField.conf', 'L9CT_company-metric-year-cntry_L9CT_esg-ext-data-companies_MMRule.conf']\n",
      "L9CT_prod-assets-oilgas_MRField.conf C:/Users/O005820/Documents/repositorios/GDH_c360_hammurabi_UUAAs/l9ct/glgldh360gloqlt/hammurabi/confs/master/l9ct/L9CT_prod-assets-oilgas_MRField.conf\n",
      "L9CT_prod-assets-oilgas-annual_MRField.conf C:/Users/O005820/Documents/repositorios/GDH_c360_hammurabi_UUAAs/l9ct/glgldh360gloqlt/hammurabi/confs/master/l9ct/L9CT_prod-assets-oilgas-annual_MRField.conf\n",
      "EJB6_digital-sales_MRField.conf C:/Users/O005820/Documents/repositorios/GDH_c360_hammurabi_UUAAs/ejb6/glgldh360gloqlt/hammurabi/confs/master/ejb6/EJB6_digital-sales_MRField.conf\n",
      "L9CT_company-metric-year-cntry_MRField.conf C:/Users/O005820/Documents/repositorios/GDH_c360_hammurabi_UUAAs/l9ct/glgldh360gloqlt/hammurabi/confs/master/l9ct/L9CT_company-metric-year-cntry_MRField.conf\n",
      "L9CT_company-metric-year-cntry_L9CT_esg-ext-data-companies_MMRule.conf C:/Users/O005820/Documents/repositorios/GDH_c360_hammurabi_UUAAs/l9ct/glgldh360gloqlt/hammurabi/confs/master/l9ct/L9CT_company-metric-year-cntry_L9CT_esg-ext-data-companies_MMRule.conf\n"
     ]
    }
   ],
   "source": [
    "# Reseteamos directorio y nos traemos confs\n",
    "print(confs)\n",
    "shutil.rmtree('./reemplazo_confs/')\n",
    "os.makedirs('./reemplazo_confs/')\n",
    "for c in confs:\n",
    "    uuaa = c[:4].lower()\n",
    "    dst = './reemplazo_confs/'+c\n",
    "    src = 'C:/Users/O005820/Documents/repositorios/GDH_c360_hammurabi_UUAAs/{0}/glgldh360gloqlt/hammurabi/confs/master/{0}/{1}'.format(uuaa,c)\n",
    "    print(c,src)\n",
    "    shutil.copyfile(src, dst)"
   ]
  },
  {
   "cell_type": "code",
   "execution_count": 8,
   "metadata": {},
   "outputs": [
    {
     "name": "stdout",
     "output_type": "stream",
     "text": [
      "ERROR 'GL_MVP_t_ejb6_digital_sales_3.1_000'\n",
      "ERROR 'GL_MVP_t_ejb6_digital_sales_3.1_001'\n",
      "ERROR 'GL_MVP_t_ejb6_digital_sales_3.1_002'\n",
      "ERROR 'GL_MVP_t_ejb6_digital_sales_3.1_003'\n",
      "ERROR 'GL_MVP_t_ejb6_digital_sales_3.1_004'\n",
      "ERROR 'GL_MVP_t_ejb6_digital_sales_3.1_005'\n",
      "ERROR 'GL_MVP_t_ejb6_digital_sales_3.1_006'\n",
      "ERROR 'GL_MVP_t_ejb6_digital_sales_3.2_000'\n",
      "ERROR 'GL_MVP_t_ejb6_digital_sales_3.2_001'\n",
      "ERROR 'GL_MVP_t_ejb6_digital_sales_3.2_002'\n",
      "ERROR 'GL_MVP_t_ejb6_digital_sales_3.2_003'\n",
      "ERROR 'GL_MVP_t_ejb6_digital_sales_3.2_004'\n",
      "ERROR 'GL_MVP_t_ejb6_digital_sales_3.2_005'\n",
      "ERROR 'GL_MVP_t_ejb6_digital_sales_3.2_006'\n",
      "ERROR 'GL_DOM_t_ejb6_digital_sales_3.5_000'\n",
      "ERROR '2801aec1d5'\n",
      "ERROR '2801aec24e'\n",
      "ERROR '289cc78dc2'\n",
      "ERROR '289cc78ebe'\n",
      "ERROR '289cc78fc9'\n",
      "ERROR '289cc790bb'\n",
      "ERROR '289cc791a7'\n",
      "ERROR 'GL_STR_t_ejb6_digital_sales_4.2_000'\n",
      "ERROR 'GL_MVP_t_l9ct_prod_assets_oilgas_annual_3.1_000'\n",
      "ERROR 'GL_MVP_t_l9ct_prod_assets_oilgas_annual_3.1_001'\n",
      "ERROR 'GL_MVP_t_l9ct_prod_assets_oilgas_annual_3.2_000'\n",
      "ERROR 'GL_MVP_t_l9ct_prod_assets_oilgas_annual_3.2_001'\n",
      "ERROR 'GL_STR_t_l9ct_prod_assets_oilgas_annual_4.2_000'\n",
      "ERROR 'GL_MVP_t_l9ct_prod_assets_oilgas_3.1_000'\n",
      "ERROR 'GL_MVP_t_l9ct_prod_assets_oilgas_3.1_001'\n",
      "ERROR 'GL_MVP_t_l9ct_prod_assets_oilgas_3.2_000'\n",
      "ERROR 'GL_MVP_t_l9ct_prod_assets_oilgas_3.2_001'\n",
      "ERROR '2891f1b96c'\n",
      "ERROR '2891f1ba8c'\n",
      "ERROR '2891f1bb92'\n",
      "ERROR '2891f1b761'\n",
      "ERROR '2891f1b85b'\n",
      "ERROR 'GL_STR_t_l9ct_prod_assets_oilgas_4.2_000'\n",
      "ERROR '2891f1bcaa'\n",
      "ERROR '2891f1bdc0'\n"
     ]
    }
   ],
   "source": [
    "# realizamos el reemplazo de ids\n",
    "process_config_files(confs_directory,replace_ids_dict)\n"
   ]
  },
  {
   "cell_type": "code",
   "execution_count": 9,
   "metadata": {},
   "outputs": [
    {
     "name": "stdout",
     "output_type": "stream",
     "text": [
      "L9CT_prod-assets-oilgas_MRField.conf ./reemplazo_confs/L9CT_prod-assets-oilgas_MRField.conf\n",
      "L9CT_prod-assets-oilgas-annual_MRField.conf ./reemplazo_confs/L9CT_prod-assets-oilgas-annual_MRField.conf\n",
      "EJB6_digital-sales_MRField.conf ./reemplazo_confs/EJB6_digital-sales_MRField.conf\n",
      "L9CT_company-metric-year-cntry_MRField.conf ./reemplazo_confs/L9CT_company-metric-year-cntry_MRField.conf\n",
      "L9CT_company-metric-year-cntry_L9CT_esg-ext-data-companies_MMRule.conf ./reemplazo_confs/L9CT_company-metric-year-cntry_L9CT_esg-ext-data-companies_MMRule.conf\n"
     ]
    }
   ],
   "source": [
    "# una vez realizado el cambio y revisado;), llevamos los confs a los repos:\n",
    "###############################################################################\n",
    "uas = []\n",
    "for c in confs:\n",
    "    uuaa = c[:4].lower()\n",
    "    src = './reemplazo_confs/'+c\n",
    "    dst = 'C:/Users/O005820/Documents/repositorios/GDH_c360_hammurabi_UUAAs/{0}/glgldh360gloqlt/hammurabi/confs/master/{0}/{1}'.format(uuaa,c)\n",
    "    print(c,src)\n",
    "    shutil.copyfile(src, dst)\n",
    "    uas.append(uuaa)\n"
   ]
  },
  {
   "cell_type": "code",
   "execution_count": 10,
   "metadata": {},
   "outputs": [
    {
     "name": "stdout",
     "output_type": "stream",
     "text": [
      "UUAAs a mergear:\n",
      "['l9ct', 'ejb6']\n"
     ]
    }
   ],
   "source": [
    "print('UUAAs a mergear:')\n",
    "print([item for item, count in collections.Counter(uas).items()])"
   ]
  }
 ],
 "metadata": {
  "kernelspec": {
   "display_name": "Python 3",
   "language": "python",
   "name": "python3"
  },
  "language_info": {
   "codemirror_mode": {
    "name": "ipython",
    "version": 3
   },
   "file_extension": ".py",
   "mimetype": "text/x-python",
   "name": "python",
   "nbconvert_exporter": "python",
   "pygments_lexer": "ipython3",
   "version": "3.9.13"
  },
  "orig_nbformat": 4
 },
 "nbformat": 4,
 "nbformat_minor": 2
}
