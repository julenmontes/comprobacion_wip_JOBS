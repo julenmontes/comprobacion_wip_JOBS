{
 "cells": [
  {
   "cell_type": "markdown",
   "metadata": {},
   "source": [
    "# Consulta de  ejecuciones de jobs en Dataproc\n",
    "\n",
    "Pasos a realizar\n",
    "----------------\n",
    "\n",
    "1) Activar conexión VPN remota (Pulse), si es necesario\n",
    "\n",
    "2) Descargar jobs desde 'jobs_dataproc':  \n",
    "https://docs.google.com/spreadsheets/d/1j-ndJrhlfHb70O730pUoYSWOZrtphbJ9Z4qy-BIVSis/edit#gid=639609316  \n",
    "Guardar en `./jobs/jobs.csv`  \n",
    "El csv, como mínimo debe tener las siguientes columnas:  \n",
    "    ```\n",
    "    uuaa,job\n",
    "    B0HN,b0hn-gl-spk-qlt-inmXXXXXXXX-NN\n",
    "    ```\n",
    "\n",
    "3) Generar token en: https://portunus.live-01.nextgen.igrupobbva/v1/requestToken.html\n",
    "- Razon:  \n",
    "Consulta de ejecuciones de Jobs de dataproc en live mediante peticiones get\n",
    "- Nivel **Alto**  \n",
    "Conceder acceso y copiar clipboard.  \n",
    "Guardar en `./token.txt`\n",
    "\n",
    "4) Ejecutar script (restart kernell and run all cells)  \n",
    "Resultado de la consulta en `./runs/runs_{fecha}.csv`"
   ]
  },
  {
   "cell_type": "markdown",
   "metadata": {},
   "source": [
    "Libraries"
   ]
  },
  {
   "cell_type": "code",
   "execution_count": 1,
   "metadata": {},
   "outputs": [],
   "source": [
    "import pandas as pd\n",
    "import requests\n",
    "import json\n",
    "import warnings\n",
    "from tqdm import tqdm\n",
    "from datetime import date\n",
    "import time\n",
    "warnings.filterwarnings(\"ignore\")\n",
    "pd.set_option('display.max_columns', None)\n",
    "\n",
    "API_path    = \"https://dataproc.live-01.nextgen.igrupobbva/v3\"\n",
    "token       = open(\"token.txt\", \"r\").read()\n",
    "header_api  = {\"Authorization\":\"Bearer {t}\".format(t=token)}"
   ]
  },
  {
   "cell_type": "markdown",
   "metadata": {},
   "source": [
    "Functions"
   ]
  },
  {
   "cell_type": "code",
   "execution_count": 2,
   "metadata": {},
   "outputs": [],
   "source": [
    "def get_ns(country_ns  = \"glo\", type_ns = \"pro\", header_api = header_api):\n",
    "    \"\"\"\n",
    "    Returns and writes Dataframe with Namespace asociated to all UUAAs\n",
    "    \n",
    "    Parameters\n",
    "    ----------\n",
    "    country_ns: filter for country, default \"glo\"\n",
    "    type_ns: filter for type of ns, default \"pro\"\n",
    "    header_api: Header of request for Dataproc Api\n",
    "\n",
    "    Returns\n",
    "    -------\n",
    "    data_runs: list with with existing job runs data\n",
    "    no_runs: list with with no existing job runs data\n",
    "    \"\"\"\n",
    "    url = API_path + \"/ns-configs?pageSize=50\"\n",
    "    r_ns = requests.get(url, headers=header_api, params={'offset':0}, verify=False)\n",
    "    pages = json.loads(r_ns.text)['pagination']['totalPages']\n",
    "\n",
    "    data = []\n",
    "    for p in tqdm(range(pages)):\n",
    "        url = API_path + \"/ns-configs?pageSize=50&paginationKey=\" + str(p)\n",
    "        r_ns = requests.get(url, headers=header_api, params={'offset':0}, verify=False)\n",
    "        if r_ns.ok:\n",
    "            time.sleep(0.25)\n",
    "            data.append(pd.json_normalize(json.loads(r_ns.text)['data']).query('enabled==True')[[\"_id\",\"params.uuaa\",\"params.country\"]])\n",
    "        elif r_ns.status_code == 403:\n",
    "            print(\"Error 403, vuelve a pedir el token con nivel alto\")\n",
    "        else:\n",
    "            print(\"Error: \",r_ns.status_code)\n",
    "    df_ns = pd.concat(data,axis=0).reset_index(drop=True)\n",
    "    df_ns.columns = ['id_ns','uuaa','country']\n",
    "    df_ns['type'] = df_ns.id_ns.str[-3:]\n",
    "    print(\"ns type:\")\n",
    "    print(df_ns['type'].value_counts())\n",
    "    print(\"ns country:\")\n",
    "    print(df_ns['country'].value_counts())\n",
    "    print(\"filtramos country:glo y type:pro\")\n",
    "    df_ns.query('country==@country_ns', inplace=True)\n",
    "    df_ns.query('type==@type_ns', inplace=True)\n",
    "    df_ns.to_csv('./ns/ns.csv',sep=';',index=False)\n",
    "    return df_ns\n",
    "\n",
    "def get_runs_by_job(df_jobs_ns, header_api = header_api):\n",
    "    \"\"\"\n",
    "    Returns lists with job runs and no job runs data\n",
    "\n",
    "    Parameters\n",
    "    ----------\n",
    "    df_jobs_ns: DataFrame with \"id_ns\" (Dataproc NameSpace of job) and \"job\" (Dataproc Name of job) columns.\n",
    "    header_api: Header of request for Dataproc Api\n",
    "\n",
    "    Returns\n",
    "    -------\n",
    "    data_runs: list with with existing job runs data\n",
    "    no_runs: list with with no existing job runs data\n",
    "    \"\"\"\n",
    "    data_runs = []\n",
    "    no_runs = []\n",
    "    print('Total {0} jobs'.format(str(len(df_jobs_ns))))\n",
    "    for index, row in tqdm(df_jobs_ns.iterrows()):\n",
    "        url = API_path + \"/ns/{n}/jobs/{j}/runs\".format(n=row['id_ns'], j=row['job'])\n",
    "        #print(url)\n",
    "        r_run = requests.get(url, headers=header_api, verify=False)\n",
    "        if r_run.ok and json.loads(r_run.text)['data']:\n",
    "            if \"CLOSING_DATE\" in json.loads(r_run.text)['data'][0]['runEnv']:\n",
    "                runs = pd.json_normalize(json.loads(r_run.text)['data'])[['_id','status.id','runEnv.CLOSING_DATE','jobParams.configUrl','_createdAt','status.updatedAt','_createdBy']]\n",
    "            elif \"DATIO_DATE\" in json.loads(r_run.text)['data'][0]['runEnv']:\n",
    "                runs = pd.json_normalize(json.loads(r_run.text)['data'])[['_id','status.id','runEnv.DATIO_DATE','jobParams.configUrl','_createdAt','status.updatedAt','_createdBy']]\n",
    "            elif \"CUTOFF_DATE\" not in json.loads(r_run.text)['data'][0]['runEnv']:\n",
    "                print('INCLUIR PARÁMETRO CUT_OFF_DATE ALTERNATIVO')\n",
    "                print(json.loads(r_run.text)['data'])\n",
    "                # runs = pd.json_normalize(json.loads(r_run.text)['data'])[['_id','status.id','runEnv.CUTOFF_DATE','jobParams.configUrl','_createdAt','status.updatedAt','_createdBy']]\n",
    "            else:\n",
    "                runs = pd.json_normalize(json.loads(r_run.text)['data'])[['_id','status.id','runEnv.CUTOFF_DATE','jobParams.configUrl','_createdAt','status.updatedAt','_createdBy']]\n",
    "            runs.columns = ['run_id','status','CUTOFF_DATE','configUrl','run_createdAt','status_updatedAt','run_createdBy']\n",
    "            runs['job'] = row['job']\n",
    "            runs['id_ns'] = row['id_ns']\n",
    "            data_runs.append(runs)\n",
    "        elif (r_run.status_code == 403) or (r_run.status_code == 401):\n",
    "            print(\"Error 403 o 401, vuelve a pedir el token con nivel alto: \", r_run.status_code)\n",
    "        elif r_run.status_code == 200:\n",
    "            print(\"-NA (job exists, no runs):\",r_run.status_code, url, row['job'])\n",
    "            no_runs.append([row['id_ns'], row['job'], r_run.status_code, json.loads(r_run.text)])\n",
    "        elif r_run.status_code == 502:\n",
    "            print(\"-NA (COMPROBAR en DP, volver a lanzar API):\",r_run.status_code, url, row['job'])\n",
    "            no_runs.append([row['id_ns'], row['job'], r_run.status_code, json.loads(r_run.text)])\n",
    "        else:\n",
    "            print(\"-NA :\",r_run.status_code, url)\n",
    "            no_runs.append([row['id_ns'], row['job'], r_run.status_code, json.loads(r_run.text)])\n",
    "        time.sleep(2)\n",
    "    return data_runs, no_runs"
   ]
  },
  {
   "cell_type": "markdown",
   "metadata": {},
   "source": [
    "REQUEST: All ns's"
   ]
  },
  {
   "cell_type": "code",
   "execution_count": 3,
   "metadata": {},
   "outputs": [
    {
     "data": {
      "text/html": [
       "<div>\n",
       "<style scoped>\n",
       "    .dataframe tbody tr th:only-of-type {\n",
       "        vertical-align: middle;\n",
       "    }\n",
       "\n",
       "    .dataframe tbody tr th {\n",
       "        vertical-align: top;\n",
       "    }\n",
       "\n",
       "    .dataframe thead th {\n",
       "        text-align: right;\n",
       "    }\n",
       "</style>\n",
       "<table border=\"1\" class=\"dataframe\">\n",
       "  <thead>\n",
       "    <tr style=\"text-align: right;\">\n",
       "      <th></th>\n",
       "      <th>id_ns</th>\n",
       "      <th>uuaa</th>\n",
       "      <th>country</th>\n",
       "      <th>type</th>\n",
       "    </tr>\n",
       "  </thead>\n",
       "  <tbody>\n",
       "    <tr>\n",
       "      <th>554</th>\n",
       "      <td>comh-pro</td>\n",
       "      <td>comh</td>\n",
       "      <td>glo</td>\n",
       "      <td>pro</td>\n",
       "    </tr>\n",
       "    <tr>\n",
       "      <th>555</th>\n",
       "      <td>kple-pro</td>\n",
       "      <td>kple</td>\n",
       "      <td>glo</td>\n",
       "      <td>pro</td>\n",
       "    </tr>\n",
       "  </tbody>\n",
       "</table>\n",
       "</div>"
      ],
      "text/plain": [
       "        id_ns  uuaa country type\n",
       "554  comh-pro  comh     glo  pro\n",
       "555  kple-pro  kple     glo  pro"
      ]
     },
     "execution_count": 3,
     "metadata": {},
     "output_type": "execute_result"
    }
   ],
   "source": [
    "# df_ns = get_ns()\n",
    "df_ns = pd.read_csv('./ns/ns.csv', sep=';')\n",
    "df_ns.tail(2)"
   ]
  },
  {
   "cell_type": "markdown",
   "metadata": {},
   "source": [
    "Read jobs & merge ns's"
   ]
  },
  {
   "cell_type": "code",
   "execution_count": 4,
   "metadata": {},
   "outputs": [
    {
     "name": "stdout",
     "output_type": "stream",
     "text": [
      "UUAAs sin ns: ['jobs']\n"
     ]
    },
    {
     "data": {
      "text/html": [
       "<div>\n",
       "<style scoped>\n",
       "    .dataframe tbody tr th:only-of-type {\n",
       "        vertical-align: middle;\n",
       "    }\n",
       "\n",
       "    .dataframe tbody tr th {\n",
       "        vertical-align: top;\n",
       "    }\n",
       "\n",
       "    .dataframe thead th {\n",
       "        text-align: right;\n",
       "    }\n",
       "</style>\n",
       "<table border=\"1\" class=\"dataframe\">\n",
       "  <thead>\n",
       "    <tr style=\"text-align: right;\">\n",
       "      <th></th>\n",
       "      <th>uuaa</th>\n",
       "      <th>job</th>\n",
       "      <th>conf</th>\n",
       "      <th>id_ns</th>\n",
       "      <th>country</th>\n",
       "      <th>type</th>\n",
       "    </tr>\n",
       "  </thead>\n",
       "  <tbody>\n",
       "    <tr>\n",
       "      <th>222</th>\n",
       "      <td>g5m3</td>\n",
       "      <td>g5m3-gl-hmm-qlt-inmmrulesustmboprtincibsust-01</td>\n",
       "      <td>G5M3_sust-mob-operations-cib_G5M3_sust-mob-ope...</td>\n",
       "      <td>gl.g5m3.app-id-23164.pro</td>\n",
       "      <td>glo</td>\n",
       "      <td>pro</td>\n",
       "    </tr>\n",
       "    <tr>\n",
       "      <th>223</th>\n",
       "      <td>rzua</td>\n",
       "      <td>rzua-gl-hmm-qlt-inmmrulecntrctoukcog-01</td>\n",
       "      <td>RZUA_contract-output-emissions_KCOG_country_MM...</td>\n",
       "      <td>gl.rzua.app-id-19546.pro</td>\n",
       "      <td>glo</td>\n",
       "      <td>pro</td>\n",
       "    </tr>\n",
       "  </tbody>\n",
       "</table>\n",
       "</div>"
      ],
      "text/plain": [
       "     uuaa                                             job  \\\n",
       "222  g5m3  g5m3-gl-hmm-qlt-inmmrulesustmboprtincibsust-01   \n",
       "223  rzua         rzua-gl-hmm-qlt-inmmrulecntrctoukcog-01   \n",
       "\n",
       "                                                  conf  \\\n",
       "222  G5M3_sust-mob-operations-cib_G5M3_sust-mob-ope...   \n",
       "223  RZUA_contract-output-emissions_KCOG_country_MM...   \n",
       "\n",
       "                        id_ns country type  \n",
       "222  gl.g5m3.app-id-23164.pro     glo  pro  \n",
       "223  gl.rzua.app-id-19546.pro     glo  pro  "
      ]
     },
     "execution_count": 4,
     "metadata": {},
     "output_type": "execute_result"
    }
   ],
   "source": [
    "df_jobs = pd.read_csv('./jobs/jobs.csv').dropna(subset='job',axis=0)\n",
    "df_jobs.uuaa = df_jobs.uuaa.str.strip().str.lower()\n",
    "df_jobs.job = df_jobs.job.str.strip()\n",
    "\n",
    "df_jobs_ns = df_jobs.merge(df_ns, on='uuaa', how='left', indicator=True).query('_merge==\"both\"').drop(columns='_merge')\n",
    "print('UUAAs sin ns:', df_jobs.merge(df_ns, on='uuaa', how='left', indicator=True).query('_merge==\"left_only\"').uuaa.unique())\n",
    "df_jobs_ns.tail(2)"
   ]
  },
  {
   "cell_type": "markdown",
   "metadata": {},
   "source": [
    "REQUEST: Runs by job "
   ]
  },
  {
   "cell_type": "code",
   "execution_count": 5,
   "metadata": {},
   "outputs": [
    {
     "name": "stdout",
     "output_type": "stream",
     "text": [
      "Total 223 jobs\n"
     ]
    },
    {
     "name": "stderr",
     "output_type": "stream",
     "text": [
      "130it [05:21,  2.26s/it]"
     ]
    },
    {
     "name": "stdout",
     "output_type": "stream",
     "text": [
      "-NA (job exists, no runs): 200 https://dataproc.live-01.nextgen.igrupobbva/v3/ns/gl.rzua.app-id-19546.pro/jobs/rzua-gl-hmm-qlt-inmmmrsustopratinsciboprtci-01/runs rzua-gl-hmm-qlt-inmmmrsustopratinsciboprtci-01\n"
     ]
    },
    {
     "name": "stderr",
     "output_type": "stream",
     "text": [
      "188it [07:31,  2.29s/it]"
     ]
    },
    {
     "name": "stdout",
     "output_type": "stream",
     "text": [
      "-NA (job exists, no runs): 200 https://dataproc.live-01.nextgen.igrupobbva/v3/ns/gl.l9ct.app-id-219787.pro/jobs/l9ct-gl-hmm-qlt-inmmvpesgfactreply-01/runs l9ct-gl-hmm-qlt-inmmvpesgfactreply-01\n"
     ]
    },
    {
     "name": "stderr",
     "output_type": "stream",
     "text": [
      "189it [07:33,  2.26s/it]"
     ]
    },
    {
     "name": "stdout",
     "output_type": "stream",
     "text": [
      "-NA (job exists, no runs): 200 https://dataproc.live-01.nextgen.igrupobbva/v3/ns/gl.l9ct.app-id-219787.pro/jobs/l9ct-gl-hmm-qlt-inmstresgfactreply-01/runs l9ct-gl-hmm-qlt-inmstresgfactreply-01\n"
     ]
    },
    {
     "name": "stderr",
     "output_type": "stream",
     "text": [
      "190it [07:35,  2.24s/it]"
     ]
    },
    {
     "name": "stdout",
     "output_type": "stream",
     "text": [
      "-NA (job exists, no runs): 200 https://dataproc.live-01.nextgen.igrupobbva/v3/ns/gl.l9ct.app-id-219787.pro/jobs/l9ct-gl-hmm-qlt-inmmvpesgquestionscore-01/runs l9ct-gl-hmm-qlt-inmmvpesgquestionscore-01\n"
     ]
    },
    {
     "name": "stderr",
     "output_type": "stream",
     "text": [
      "191it [07:38,  2.23s/it]"
     ]
    },
    {
     "name": "stdout",
     "output_type": "stream",
     "text": [
      "-NA (job exists, no runs): 200 https://dataproc.live-01.nextgen.igrupobbva/v3/ns/gl.l9ct.app-id-219787.pro/jobs/l9ct-gl-hmm-qlt-inmstresgquestionscore-01/runs l9ct-gl-hmm-qlt-inmstresgquestionscore-01\n"
     ]
    },
    {
     "name": "stderr",
     "output_type": "stream",
     "text": [
      "193it [07:42,  2.22s/it]"
     ]
    },
    {
     "name": "stdout",
     "output_type": "stream",
     "text": [
      "-NA (job exists, no runs): 200 https://dataproc.live-01.nextgen.igrupobbva/v3/ns/gl.kfcm.app-id-26255.pro/jobs/kfcm-gl-hmm-qlt-inmstrfdbkfilldfrmfld-01/runs kfcm-gl-hmm-qlt-inmstrfdbkfilldfrmfld-01\n"
     ]
    },
    {
     "name": "stderr",
     "output_type": "stream",
     "text": [
      "195it [07:46,  2.21s/it]"
     ]
    },
    {
     "name": "stdout",
     "output_type": "stream",
     "text": [
      "-NA (job exists, no runs): 200 https://dataproc.live-01.nextgen.igrupobbva/v3/ns/gl.kfcm.app-id-26255.pro/jobs/kfcm-gl-hmm-qlt-inmstrsaturationrules-01/runs kfcm-gl-hmm-qlt-inmstrsaturationrules-01\n"
     ]
    },
    {
     "name": "stderr",
     "output_type": "stream",
     "text": [
      "199it [07:55,  2.21s/it]"
     ]
    },
    {
     "name": "stdout",
     "output_type": "stream",
     "text": [
      "-NA (job exists, no runs): 200 https://dataproc.live-01.nextgen.igrupobbva/v3/ns/gl.kfcm.app-id-26255.pro/jobs/kfcm-gl-hmm-qlt-inmstrfeedbckfrmfield-01/runs kfcm-gl-hmm-qlt-inmstrfeedbckfrmfield-01\n"
     ]
    },
    {
     "name": "stderr",
     "output_type": "stream",
     "text": [
      "200it [07:57,  2.21s/it]"
     ]
    },
    {
     "name": "stdout",
     "output_type": "stream",
     "text": [
      "-NA (job exists, no runs): 200 https://dataproc.live-01.nextgen.igrupobbva/v3/ns/gl.kfcm.app-id-26255.pro/jobs/kfcm-gl-hmm-qlt-inmmvpfeedbckfrmshown-01/runs kfcm-gl-hmm-qlt-inmmvpfeedbckfrmshown-01\n"
     ]
    },
    {
     "name": "stderr",
     "output_type": "stream",
     "text": [
      "203it [08:04,  2.22s/it]"
     ]
    },
    {
     "name": "stdout",
     "output_type": "stream",
     "text": [
      "-NA (job exists, no runs): 200 https://dataproc.live-01.nextgen.igrupobbva/v3/ns/gl.kfcm.app-id-26255.pro/jobs/kfcm-gl-hmm-qlt-inmstrfeedbackforms-01/runs kfcm-gl-hmm-qlt-inmstrfeedbackforms-01\n"
     ]
    },
    {
     "name": "stderr",
     "output_type": "stream",
     "text": [
      "205it [08:08,  2.21s/it]"
     ]
    },
    {
     "name": "stdout",
     "output_type": "stream",
     "text": [
      "-NA (job exists, no runs): 200 https://dataproc.live-01.nextgen.igrupobbva/v3/ns/gl.kfcm.app-id-26255.pro/jobs/kfcm-gl-hmm-qlt-inmstrfeedbackoptions-01/runs kfcm-gl-hmm-qlt-inmstrfeedbackoptions-01\n"
     ]
    },
    {
     "name": "stderr",
     "output_type": "stream",
     "text": [
      "206it [08:11,  2.21s/it]"
     ]
    },
    {
     "name": "stdout",
     "output_type": "stream",
     "text": [
      "-NA (job exists, no runs): 200 https://dataproc.live-01.nextgen.igrupobbva/v3/ns/gl.l9ct.app-id-219787.pro/jobs/l9ct-gl-hmm-qlt-inmmvpesgextdcoanloilgas-01/runs l9ct-gl-hmm-qlt-inmmvpesgextdcoanloilgas-01\n"
     ]
    },
    {
     "name": "stderr",
     "output_type": "stream",
     "text": [
      "207it [08:13,  2.21s/it]"
     ]
    },
    {
     "name": "stdout",
     "output_type": "stream",
     "text": [
      "-NA (job exists, no runs): 200 https://dataproc.live-01.nextgen.igrupobbva/v3/ns/gl.l9ct.app-id-219787.pro/jobs/l9ct-gl-hmm-qlt-inmstresgextdcoanloilgas-01/runs l9ct-gl-hmm-qlt-inmstresgextdcoanloilgas-01\n"
     ]
    },
    {
     "name": "stderr",
     "output_type": "stream",
     "text": [
      "208it [08:15,  2.21s/it]"
     ]
    },
    {
     "name": "stdout",
     "output_type": "stream",
     "text": [
      "-NA (job exists, no runs): 200 https://dataproc.live-01.nextgen.igrupobbva/v3/ns/gl.l9ct.app-id-219787.pro/jobs/l9ct-gl-hmm-qlt-inmmvpprodassetcorelations-01/runs l9ct-gl-hmm-qlt-inmmvpprodassetcorelations-01\n"
     ]
    },
    {
     "name": "stderr",
     "output_type": "stream",
     "text": [
      "209it [08:17,  2.20s/it]"
     ]
    },
    {
     "name": "stdout",
     "output_type": "stream",
     "text": [
      "-NA (job exists, no runs): 200 https://dataproc.live-01.nextgen.igrupobbva/v3/ns/gl.l9ct.app-id-219787.pro/jobs/l9ct-gl-hmm-qlt-inmstrprodassetcorelations-01/runs l9ct-gl-hmm-qlt-inmstrprodassetcorelations-01\n"
     ]
    },
    {
     "name": "stderr",
     "output_type": "stream",
     "text": [
      "210it [08:19,  2.20s/it]"
     ]
    },
    {
     "name": "stdout",
     "output_type": "stream",
     "text": [
      "-NA (job exists, no runs): 200 https://dataproc.live-01.nextgen.igrupobbva/v3/ns/gl.l9ct.app-id-219787.pro/jobs/l9ct-gl-hmm-qlt-inmmvpprodassetsoilgasann-01/runs l9ct-gl-hmm-qlt-inmmvpprodassetsoilgasann-01\n"
     ]
    },
    {
     "name": "stderr",
     "output_type": "stream",
     "text": [
      "211it [08:22,  2.20s/it]"
     ]
    },
    {
     "name": "stdout",
     "output_type": "stream",
     "text": [
      "-NA (job exists, no runs): 200 https://dataproc.live-01.nextgen.igrupobbva/v3/ns/gl.l9ct.app-id-219787.pro/jobs/l9ct-gl-hmm-qlt-inmstrprodassetsoilgasann-01/runs l9ct-gl-hmm-qlt-inmstrprodassetsoilgasann-01\n"
     ]
    },
    {
     "name": "stderr",
     "output_type": "stream",
     "text": [
      "212it [08:24,  2.20s/it]"
     ]
    },
    {
     "name": "stdout",
     "output_type": "stream",
     "text": [
      "-NA (job exists, no runs): 200 https://dataproc.live-01.nextgen.igrupobbva/v3/ns/gl.l9ct.app-id-219787.pro/jobs/l9ct-gl-hmm-qlt-inmmvpprodassetsoilgas-01/runs l9ct-gl-hmm-qlt-inmmvpprodassetsoilgas-01\n"
     ]
    },
    {
     "name": "stderr",
     "output_type": "stream",
     "text": [
      "213it [08:26,  2.20s/it]"
     ]
    },
    {
     "name": "stdout",
     "output_type": "stream",
     "text": [
      "-NA (job exists, no runs): 200 https://dataproc.live-01.nextgen.igrupobbva/v3/ns/gl.l9ct.app-id-219787.pro/jobs/l9ct-gl-hmm-qlt-inmstrprodassetsoilgas-01/runs l9ct-gl-hmm-qlt-inmstrprodassetsoilgas-01\n"
     ]
    },
    {
     "name": "stderr",
     "output_type": "stream",
     "text": [
      "214it [08:28,  2.19s/it]"
     ]
    },
    {
     "name": "stdout",
     "output_type": "stream",
     "text": [
      "-NA (job exists, no runs): 200 https://dataproc.live-01.nextgen.igrupobbva/v3/ns/gl.l9ct.app-id-219787.pro/jobs/l9ct-gl-hmm-qlt-inmmvpproductionassets-01/runs l9ct-gl-hmm-qlt-inmmvpproductionassets-01\n"
     ]
    },
    {
     "name": "stderr",
     "output_type": "stream",
     "text": [
      "215it [08:30,  2.20s/it]"
     ]
    },
    {
     "name": "stdout",
     "output_type": "stream",
     "text": [
      "-NA (job exists, no runs): 200 https://dataproc.live-01.nextgen.igrupobbva/v3/ns/gl.l9ct.app-id-219787.pro/jobs/l9ct-gl-hmm-qlt-inmstrproductionassets-01/runs l9ct-gl-hmm-qlt-inmstrproductionassets-01\n"
     ]
    },
    {
     "name": "stderr",
     "output_type": "stream",
     "text": [
      "216it [08:33,  2.20s/it]"
     ]
    },
    {
     "name": "stdout",
     "output_type": "stream",
     "text": [
      "-NA (job exists, no runs): 200 https://dataproc.live-01.nextgen.igrupobbva/v3/ns/gl.l9ct.app-id-219787.pro/jobs/l9ct-gl-hmm-qlt-inmmvpprodassestsannual-01/runs l9ct-gl-hmm-qlt-inmmvpprodassestsannual-01\n"
     ]
    },
    {
     "name": "stderr",
     "output_type": "stream",
     "text": [
      "217it [08:35,  2.20s/it]"
     ]
    },
    {
     "name": "stdout",
     "output_type": "stream",
     "text": [
      "-NA (job exists, no runs): 200 https://dataproc.live-01.nextgen.igrupobbva/v3/ns/gl.l9ct.app-id-219787.pro/jobs/l9ct-gl-hmm-qlt-inmstrprodassestsannual-01/runs l9ct-gl-hmm-qlt-inmstrprodassestsannual-01\n"
     ]
    },
    {
     "name": "stderr",
     "output_type": "stream",
     "text": [
      "218it [08:37,  2.20s/it]"
     ]
    },
    {
     "name": "stdout",
     "output_type": "stream",
     "text": [
      "-NA (job exists, no runs): 200 https://dataproc.live-01.nextgen.igrupobbva/v3/ns/gl.l9ct.app-id-219787.pro/jobs/l9ct-gl-hmm-qlt-inmmrprodassestsannual-01/runs l9ct-gl-hmm-qlt-inmmrprodassestsannual-01\n"
     ]
    },
    {
     "name": "stderr",
     "output_type": "stream",
     "text": [
      "220it [08:41,  2.20s/it]"
     ]
    },
    {
     "name": "stdout",
     "output_type": "stream",
     "text": [
      "-NA (job exists, no runs): 200 https://dataproc.live-01.nextgen.igrupobbva/v3/ns/gl.scat.app-id-1302468.pro/jobs/scat-gl-hmm-qlt-inmmvpparentchildsusthier-01/runs scat-gl-hmm-qlt-inmmvpparentchildsusthier-01\n"
     ]
    },
    {
     "name": "stderr",
     "output_type": "stream",
     "text": [
      "221it [08:44,  2.20s/it]"
     ]
    },
    {
     "name": "stdout",
     "output_type": "stream",
     "text": [
      "-NA (job exists, no runs): 200 https://dataproc.live-01.nextgen.igrupobbva/v3/ns/gl.g5m3.app-id-23164.pro/jobs/g5m3-gl-hmm-qlt-inmmrulesustmboprtincibsust-01/runs g5m3-gl-hmm-qlt-inmmrulesustmboprtincibsust-01\n"
     ]
    },
    {
     "name": "stderr",
     "output_type": "stream",
     "text": [
      "222it [08:46,  2.20s/it]"
     ]
    },
    {
     "name": "stdout",
     "output_type": "stream",
     "text": [
      "-NA (job exists, no runs): 200 https://dataproc.live-01.nextgen.igrupobbva/v3/ns/gl.rzua.app-id-19546.pro/jobs/rzua-gl-hmm-qlt-inmmrulecntrctoukcog-01/runs rzua-gl-hmm-qlt-inmmrulecntrctoukcog-01\n"
     ]
    },
    {
     "name": "stderr",
     "output_type": "stream",
     "text": [
      "223it [08:48,  2.37s/it]\n"
     ]
    },
    {
     "data": {
      "text/html": [
       "<div>\n",
       "<style scoped>\n",
       "    .dataframe tbody tr th:only-of-type {\n",
       "        vertical-align: middle;\n",
       "    }\n",
       "\n",
       "    .dataframe tbody tr th {\n",
       "        vertical-align: top;\n",
       "    }\n",
       "\n",
       "    .dataframe thead th {\n",
       "        text-align: right;\n",
       "    }\n",
       "</style>\n",
       "<table border=\"1\" class=\"dataframe\">\n",
       "  <thead>\n",
       "    <tr style=\"text-align: right;\">\n",
       "      <th></th>\n",
       "      <th>run_id</th>\n",
       "      <th>status</th>\n",
       "      <th>CUTOFF_DATE</th>\n",
       "      <th>configUrl</th>\n",
       "      <th>run_createdAt</th>\n",
       "      <th>status_updatedAt</th>\n",
       "      <th>run_createdBy</th>\n",
       "      <th>job</th>\n",
       "      <th>id_ns</th>\n",
       "    </tr>\n",
       "  </thead>\n",
       "  <tbody>\n",
       "    <tr>\n",
       "      <th>1942</th>\n",
       "      <td>801f9898-4ac6-4bb1-bafe-1d9c302b9788</td>\n",
       "      <td>FAILURE</td>\n",
       "      <td>2024-08-19</td>\n",
       "      <td>https://artifactory-gdt.central-01.nextgen.igr...</td>\n",
       "      <td>2024-08-19T11:45:24.842Z</td>\n",
       "      <td>2024-08-19T12:25:44.355Z</td>\n",
       "      <td>SENTRY-BOT@DATAPROC.ECS</td>\n",
       "      <td>kfcm-gl-hmm-qlt-inmmvpfeedbackoptions-01</td>\n",
       "      <td>gl.kfcm.app-id-26255.pro</td>\n",
       "    </tr>\n",
       "    <tr>\n",
       "      <th>1943</th>\n",
       "      <td>2083940f-1340-4351-8b8c-1e208227127f</td>\n",
       "      <td>FAILURE</td>\n",
       "      <td>2024-07-31</td>\n",
       "      <td>https://artifactory-gdt.central-01.nextgen.igr...</td>\n",
       "      <td>2024-08-19T14:17:45.977Z</td>\n",
       "      <td>2024-08-19T14:24:44.705Z</td>\n",
       "      <td>SENTRY-BOT@DATAPROC.ECS</td>\n",
       "      <td>l9ct-gl-hmm-qlt-inmmrulegpcustextksag-01</td>\n",
       "      <td>gl.l9ct.app-id-219787.pro</td>\n",
       "    </tr>\n",
       "  </tbody>\n",
       "</table>\n",
       "</div>"
      ],
      "text/plain": [
       "                                    run_id   status CUTOFF_DATE  \\\n",
       "1942  801f9898-4ac6-4bb1-bafe-1d9c302b9788  FAILURE  2024-08-19   \n",
       "1943  2083940f-1340-4351-8b8c-1e208227127f  FAILURE  2024-07-31   \n",
       "\n",
       "                                              configUrl  \\\n",
       "1942  https://artifactory-gdt.central-01.nextgen.igr...   \n",
       "1943  https://artifactory-gdt.central-01.nextgen.igr...   \n",
       "\n",
       "                 run_createdAt          status_updatedAt  \\\n",
       "1942  2024-08-19T11:45:24.842Z  2024-08-19T12:25:44.355Z   \n",
       "1943  2024-08-19T14:17:45.977Z  2024-08-19T14:24:44.705Z   \n",
       "\n",
       "                run_createdBy                                       job  \\\n",
       "1942  SENTRY-BOT@DATAPROC.ECS  kfcm-gl-hmm-qlt-inmmvpfeedbackoptions-01   \n",
       "1943  SENTRY-BOT@DATAPROC.ECS  l9ct-gl-hmm-qlt-inmmrulegpcustextksag-01   \n",
       "\n",
       "                          id_ns  \n",
       "1942   gl.kfcm.app-id-26255.pro  \n",
       "1943  gl.l9ct.app-id-219787.pro  "
      ]
     },
     "execution_count": 5,
     "metadata": {},
     "output_type": "execute_result"
    }
   ],
   "source": [
    "data_runs, no_runs = get_runs_by_job(df_jobs_ns)\n",
    "df_runs     = pd.concat(data_runs, axis=0).reset_index(drop=True)\n",
    "df_noruns   = pd.DataFrame(no_runs,columns=['id_ns','job','status_code','content'])\n",
    "df_runs.tail(2)"
   ]
  },
  {
   "cell_type": "markdown",
   "metadata": {},
   "source": [
    "DF FINAL"
   ]
  },
  {
   "cell_type": "code",
   "execution_count": 6,
   "metadata": {},
   "outputs": [
    {
     "name": "stdout",
     "output_type": "stream",
     "text": [
      "Guardado df final en:\n",
      "runs/runs_2024_10_15.csv\n"
     ]
    },
    {
     "data": {
      "text/html": [
       "<div>\n",
       "<style scoped>\n",
       "    .dataframe tbody tr th:only-of-type {\n",
       "        vertical-align: middle;\n",
       "    }\n",
       "\n",
       "    .dataframe tbody tr th {\n",
       "        vertical-align: top;\n",
       "    }\n",
       "\n",
       "    .dataframe thead th {\n",
       "        text-align: right;\n",
       "    }\n",
       "</style>\n",
       "<table border=\"1\" class=\"dataframe\">\n",
       "  <thead>\n",
       "    <tr style=\"text-align: right;\">\n",
       "      <th></th>\n",
       "      <th>uuaa</th>\n",
       "      <th>job</th>\n",
       "      <th>conf</th>\n",
       "      <th>run_id</th>\n",
       "      <th>status</th>\n",
       "      <th>CUTOFF_DATE</th>\n",
       "      <th>configUrl</th>\n",
       "      <th>run_createdAt</th>\n",
       "      <th>status_updatedAt</th>\n",
       "      <th>run_createdBy</th>\n",
       "      <th>id_ns</th>\n",
       "      <th>fecha_actualizacion</th>\n",
       "    </tr>\n",
       "  </thead>\n",
       "  <tbody>\n",
       "    <tr>\n",
       "      <th>1780</th>\n",
       "      <td>scat</td>\n",
       "      <td>scat-gl-qlt-inmmvpsustmaster-01</td>\n",
       "      <td>SCAT_sustainability-master_MRField.conf</td>\n",
       "      <td>fd7253fa-54c1-4825-ae93-0e96f8ee284e</td>\n",
       "      <td>SUCCESS</td>\n",
       "      <td>2024-10-14</td>\n",
       "      <td>https://artifactory-gdt.central-01.nextgen.igr...</td>\n",
       "      <td>2024-10-14 23:33:57.531000+00:00</td>\n",
       "      <td>2024-10-14</td>\n",
       "      <td>SENTRY-BOT@DATAPROC.ECS</td>\n",
       "      <td>gl.scat.app-id-1302468.pro</td>\n",
       "      <td>2024-10-15</td>\n",
       "    </tr>\n",
       "    <tr>\n",
       "      <th>1781</th>\n",
       "      <td>scat</td>\n",
       "      <td>scat-gl-qlt-inmmvpsustmaster-01</td>\n",
       "      <td>SCAT_sustainability-master_MRField.conf</td>\n",
       "      <td>dded6c5d-0850-4cf3-9613-c6a199b8ea95</td>\n",
       "      <td>SUCCESS</td>\n",
       "      <td>2024-10-13</td>\n",
       "      <td>https://artifactory-gdt.central-01.nextgen.igr...</td>\n",
       "      <td>2024-10-13 23:31:08.078000+00:00</td>\n",
       "      <td>2024-10-13</td>\n",
       "      <td>SENTRY-BOT@DATAPROC.ECS</td>\n",
       "      <td>gl.scat.app-id-1302468.pro</td>\n",
       "      <td>2024-10-15</td>\n",
       "    </tr>\n",
       "  </tbody>\n",
       "</table>\n",
       "</div>"
      ],
      "text/plain": [
       "      uuaa                              job  \\\n",
       "1780  scat  scat-gl-qlt-inmmvpsustmaster-01   \n",
       "1781  scat  scat-gl-qlt-inmmvpsustmaster-01   \n",
       "\n",
       "                                         conf  \\\n",
       "1780  SCAT_sustainability-master_MRField.conf   \n",
       "1781  SCAT_sustainability-master_MRField.conf   \n",
       "\n",
       "                                    run_id   status CUTOFF_DATE  \\\n",
       "1780  fd7253fa-54c1-4825-ae93-0e96f8ee284e  SUCCESS  2024-10-14   \n",
       "1781  dded6c5d-0850-4cf3-9613-c6a199b8ea95  SUCCESS  2024-10-13   \n",
       "\n",
       "                                              configUrl  \\\n",
       "1780  https://artifactory-gdt.central-01.nextgen.igr...   \n",
       "1781  https://artifactory-gdt.central-01.nextgen.igr...   \n",
       "\n",
       "                        run_createdAt status_updatedAt  \\\n",
       "1780 2024-10-14 23:33:57.531000+00:00       2024-10-14   \n",
       "1781 2024-10-13 23:31:08.078000+00:00       2024-10-13   \n",
       "\n",
       "                run_createdBy                       id_ns fecha_actualizacion  \n",
       "1780  SENTRY-BOT@DATAPROC.ECS  gl.scat.app-id-1302468.pro          2024-10-15  \n",
       "1781  SENTRY-BOT@DATAPROC.ECS  gl.scat.app-id-1302468.pro          2024-10-15  "
      ]
     },
     "execution_count": 6,
     "metadata": {},
     "output_type": "execute_result"
    }
   ],
   "source": [
    "dir_df_final = 'runs/runs_{fecha}.csv'.format(fecha = date.today().strftime('%Y_%m_%d'))\n",
    "\n",
    "df = df_jobs.merge(df_runs, on='job', how='left')\n",
    "df.run_createdAt            = pd.to_datetime(df.run_createdAt)#, format = \"mixed\")\n",
    "df.status_updatedAt         = pd.to_datetime(df.status_updatedAt)#, format = \"mixed\")\n",
    "df[\"status_updatedAt\"]      = df.status_updatedAt.dt.date\n",
    "df[\"fecha_actualizacion\"]   = date.today()\n",
    "df = df.sort_values(['job','status_updatedAt','status'], ascending=False)\n",
    "df.to_csv(dir_df_final, index = False); print(\"Guardado df final en:\\n\", dir_df_final, sep='')\n",
    "df.head(2)"
   ]
  },
  {
   "cell_type": "code",
   "execution_count": 7,
   "metadata": {},
   "outputs": [
    {
     "name": "stdout",
     "output_type": "stream",
     "text": [
      "Guardado df no runs en:\n",
      "runs/no_runs/no_runs_2024_10_15.csv\n"
     ]
    },
    {
     "data": {
      "text/html": [
       "<div>\n",
       "<style scoped>\n",
       "    .dataframe tbody tr th:only-of-type {\n",
       "        vertical-align: middle;\n",
       "    }\n",
       "\n",
       "    .dataframe tbody tr th {\n",
       "        vertical-align: top;\n",
       "    }\n",
       "\n",
       "    .dataframe thead th {\n",
       "        text-align: right;\n",
       "    }\n",
       "</style>\n",
       "<table border=\"1\" class=\"dataframe\">\n",
       "  <thead>\n",
       "    <tr style=\"text-align: right;\">\n",
       "      <th></th>\n",
       "      <th>id_ns</th>\n",
       "      <th>job</th>\n",
       "      <th>status_code</th>\n",
       "      <th>content</th>\n",
       "    </tr>\n",
       "  </thead>\n",
       "  <tbody>\n",
       "    <tr>\n",
       "      <th>0</th>\n",
       "      <td>gl.rzua.app-id-19546.pro</td>\n",
       "      <td>rzua-gl-hmm-qlt-inmmmrsustopratinsciboprtci-01</td>\n",
       "      <td>200</td>\n",
       "      <td>{'data': [], 'pagination': {'links': {'first':...</td>\n",
       "    </tr>\n",
       "    <tr>\n",
       "      <th>1</th>\n",
       "      <td>gl.l9ct.app-id-219787.pro</td>\n",
       "      <td>l9ct-gl-hmm-qlt-inmmvpesgfactreply-01</td>\n",
       "      <td>200</td>\n",
       "      <td>{'data': [], 'pagination': {'links': {'first':...</td>\n",
       "    </tr>\n",
       "    <tr>\n",
       "      <th>2</th>\n",
       "      <td>gl.l9ct.app-id-219787.pro</td>\n",
       "      <td>l9ct-gl-hmm-qlt-inmstresgfactreply-01</td>\n",
       "      <td>200</td>\n",
       "      <td>{'data': [], 'pagination': {'links': {'first':...</td>\n",
       "    </tr>\n",
       "    <tr>\n",
       "      <th>3</th>\n",
       "      <td>gl.l9ct.app-id-219787.pro</td>\n",
       "      <td>l9ct-gl-hmm-qlt-inmmvpesgquestionscore-01</td>\n",
       "      <td>200</td>\n",
       "      <td>{'data': [], 'pagination': {'links': {'first':...</td>\n",
       "    </tr>\n",
       "    <tr>\n",
       "      <th>4</th>\n",
       "      <td>gl.l9ct.app-id-219787.pro</td>\n",
       "      <td>l9ct-gl-hmm-qlt-inmstresgquestionscore-01</td>\n",
       "      <td>200</td>\n",
       "      <td>{'data': [], 'pagination': {'links': {'first':...</td>\n",
       "    </tr>\n",
       "    <tr>\n",
       "      <th>5</th>\n",
       "      <td>gl.kfcm.app-id-26255.pro</td>\n",
       "      <td>kfcm-gl-hmm-qlt-inmstrfdbkfilldfrmfld-01</td>\n",
       "      <td>200</td>\n",
       "      <td>{'data': [], 'pagination': {'links': {'first':...</td>\n",
       "    </tr>\n",
       "    <tr>\n",
       "      <th>6</th>\n",
       "      <td>gl.kfcm.app-id-26255.pro</td>\n",
       "      <td>kfcm-gl-hmm-qlt-inmstrsaturationrules-01</td>\n",
       "      <td>200</td>\n",
       "      <td>{'data': [], 'pagination': {'links': {'first':...</td>\n",
       "    </tr>\n",
       "    <tr>\n",
       "      <th>7</th>\n",
       "      <td>gl.kfcm.app-id-26255.pro</td>\n",
       "      <td>kfcm-gl-hmm-qlt-inmstrfeedbckfrmfield-01</td>\n",
       "      <td>200</td>\n",
       "      <td>{'data': [], 'pagination': {'links': {'first':...</td>\n",
       "    </tr>\n",
       "    <tr>\n",
       "      <th>8</th>\n",
       "      <td>gl.kfcm.app-id-26255.pro</td>\n",
       "      <td>kfcm-gl-hmm-qlt-inmmvpfeedbckfrmshown-01</td>\n",
       "      <td>200</td>\n",
       "      <td>{'data': [], 'pagination': {'links': {'first':...</td>\n",
       "    </tr>\n",
       "    <tr>\n",
       "      <th>9</th>\n",
       "      <td>gl.kfcm.app-id-26255.pro</td>\n",
       "      <td>kfcm-gl-hmm-qlt-inmstrfeedbackforms-01</td>\n",
       "      <td>200</td>\n",
       "      <td>{'data': [], 'pagination': {'links': {'first':...</td>\n",
       "    </tr>\n",
       "    <tr>\n",
       "      <th>10</th>\n",
       "      <td>gl.kfcm.app-id-26255.pro</td>\n",
       "      <td>kfcm-gl-hmm-qlt-inmstrfeedbackoptions-01</td>\n",
       "      <td>200</td>\n",
       "      <td>{'data': [], 'pagination': {'links': {'first':...</td>\n",
       "    </tr>\n",
       "    <tr>\n",
       "      <th>11</th>\n",
       "      <td>gl.l9ct.app-id-219787.pro</td>\n",
       "      <td>l9ct-gl-hmm-qlt-inmmvpesgextdcoanloilgas-01</td>\n",
       "      <td>200</td>\n",
       "      <td>{'data': [], 'pagination': {'links': {'first':...</td>\n",
       "    </tr>\n",
       "    <tr>\n",
       "      <th>12</th>\n",
       "      <td>gl.l9ct.app-id-219787.pro</td>\n",
       "      <td>l9ct-gl-hmm-qlt-inmstresgextdcoanloilgas-01</td>\n",
       "      <td>200</td>\n",
       "      <td>{'data': [], 'pagination': {'links': {'first':...</td>\n",
       "    </tr>\n",
       "    <tr>\n",
       "      <th>13</th>\n",
       "      <td>gl.l9ct.app-id-219787.pro</td>\n",
       "      <td>l9ct-gl-hmm-qlt-inmmvpprodassetcorelations-01</td>\n",
       "      <td>200</td>\n",
       "      <td>{'data': [], 'pagination': {'links': {'first':...</td>\n",
       "    </tr>\n",
       "    <tr>\n",
       "      <th>14</th>\n",
       "      <td>gl.l9ct.app-id-219787.pro</td>\n",
       "      <td>l9ct-gl-hmm-qlt-inmstrprodassetcorelations-01</td>\n",
       "      <td>200</td>\n",
       "      <td>{'data': [], 'pagination': {'links': {'first':...</td>\n",
       "    </tr>\n",
       "    <tr>\n",
       "      <th>15</th>\n",
       "      <td>gl.l9ct.app-id-219787.pro</td>\n",
       "      <td>l9ct-gl-hmm-qlt-inmmvpprodassetsoilgasann-01</td>\n",
       "      <td>200</td>\n",
       "      <td>{'data': [], 'pagination': {'links': {'first':...</td>\n",
       "    </tr>\n",
       "    <tr>\n",
       "      <th>16</th>\n",
       "      <td>gl.l9ct.app-id-219787.pro</td>\n",
       "      <td>l9ct-gl-hmm-qlt-inmstrprodassetsoilgasann-01</td>\n",
       "      <td>200</td>\n",
       "      <td>{'data': [], 'pagination': {'links': {'first':...</td>\n",
       "    </tr>\n",
       "    <tr>\n",
       "      <th>17</th>\n",
       "      <td>gl.l9ct.app-id-219787.pro</td>\n",
       "      <td>l9ct-gl-hmm-qlt-inmmvpprodassetsoilgas-01</td>\n",
       "      <td>200</td>\n",
       "      <td>{'data': [], 'pagination': {'links': {'first':...</td>\n",
       "    </tr>\n",
       "    <tr>\n",
       "      <th>18</th>\n",
       "      <td>gl.l9ct.app-id-219787.pro</td>\n",
       "      <td>l9ct-gl-hmm-qlt-inmstrprodassetsoilgas-01</td>\n",
       "      <td>200</td>\n",
       "      <td>{'data': [], 'pagination': {'links': {'first':...</td>\n",
       "    </tr>\n",
       "    <tr>\n",
       "      <th>19</th>\n",
       "      <td>gl.l9ct.app-id-219787.pro</td>\n",
       "      <td>l9ct-gl-hmm-qlt-inmmvpproductionassets-01</td>\n",
       "      <td>200</td>\n",
       "      <td>{'data': [], 'pagination': {'links': {'first':...</td>\n",
       "    </tr>\n",
       "    <tr>\n",
       "      <th>20</th>\n",
       "      <td>gl.l9ct.app-id-219787.pro</td>\n",
       "      <td>l9ct-gl-hmm-qlt-inmstrproductionassets-01</td>\n",
       "      <td>200</td>\n",
       "      <td>{'data': [], 'pagination': {'links': {'first':...</td>\n",
       "    </tr>\n",
       "    <tr>\n",
       "      <th>21</th>\n",
       "      <td>gl.l9ct.app-id-219787.pro</td>\n",
       "      <td>l9ct-gl-hmm-qlt-inmmvpprodassestsannual-01</td>\n",
       "      <td>200</td>\n",
       "      <td>{'data': [], 'pagination': {'links': {'first':...</td>\n",
       "    </tr>\n",
       "    <tr>\n",
       "      <th>22</th>\n",
       "      <td>gl.l9ct.app-id-219787.pro</td>\n",
       "      <td>l9ct-gl-hmm-qlt-inmstrprodassestsannual-01</td>\n",
       "      <td>200</td>\n",
       "      <td>{'data': [], 'pagination': {'links': {'first':...</td>\n",
       "    </tr>\n",
       "    <tr>\n",
       "      <th>23</th>\n",
       "      <td>gl.l9ct.app-id-219787.pro</td>\n",
       "      <td>l9ct-gl-hmm-qlt-inmmrprodassestsannual-01</td>\n",
       "      <td>200</td>\n",
       "      <td>{'data': [], 'pagination': {'links': {'first':...</td>\n",
       "    </tr>\n",
       "    <tr>\n",
       "      <th>24</th>\n",
       "      <td>gl.scat.app-id-1302468.pro</td>\n",
       "      <td>scat-gl-hmm-qlt-inmmvpparentchildsusthier-01</td>\n",
       "      <td>200</td>\n",
       "      <td>{'data': [], 'pagination': {'links': {'first':...</td>\n",
       "    </tr>\n",
       "    <tr>\n",
       "      <th>25</th>\n",
       "      <td>gl.g5m3.app-id-23164.pro</td>\n",
       "      <td>g5m3-gl-hmm-qlt-inmmrulesustmboprtincibsust-01</td>\n",
       "      <td>200</td>\n",
       "      <td>{'data': [], 'pagination': {'links': {'first':...</td>\n",
       "    </tr>\n",
       "    <tr>\n",
       "      <th>26</th>\n",
       "      <td>gl.rzua.app-id-19546.pro</td>\n",
       "      <td>rzua-gl-hmm-qlt-inmmrulecntrctoukcog-01</td>\n",
       "      <td>200</td>\n",
       "      <td>{'data': [], 'pagination': {'links': {'first':...</td>\n",
       "    </tr>\n",
       "  </tbody>\n",
       "</table>\n",
       "</div>"
      ],
      "text/plain": [
       "                         id_ns  \\\n",
       "0     gl.rzua.app-id-19546.pro   \n",
       "1    gl.l9ct.app-id-219787.pro   \n",
       "2    gl.l9ct.app-id-219787.pro   \n",
       "3    gl.l9ct.app-id-219787.pro   \n",
       "4    gl.l9ct.app-id-219787.pro   \n",
       "5     gl.kfcm.app-id-26255.pro   \n",
       "6     gl.kfcm.app-id-26255.pro   \n",
       "7     gl.kfcm.app-id-26255.pro   \n",
       "8     gl.kfcm.app-id-26255.pro   \n",
       "9     gl.kfcm.app-id-26255.pro   \n",
       "10    gl.kfcm.app-id-26255.pro   \n",
       "11   gl.l9ct.app-id-219787.pro   \n",
       "12   gl.l9ct.app-id-219787.pro   \n",
       "13   gl.l9ct.app-id-219787.pro   \n",
       "14   gl.l9ct.app-id-219787.pro   \n",
       "15   gl.l9ct.app-id-219787.pro   \n",
       "16   gl.l9ct.app-id-219787.pro   \n",
       "17   gl.l9ct.app-id-219787.pro   \n",
       "18   gl.l9ct.app-id-219787.pro   \n",
       "19   gl.l9ct.app-id-219787.pro   \n",
       "20   gl.l9ct.app-id-219787.pro   \n",
       "21   gl.l9ct.app-id-219787.pro   \n",
       "22   gl.l9ct.app-id-219787.pro   \n",
       "23   gl.l9ct.app-id-219787.pro   \n",
       "24  gl.scat.app-id-1302468.pro   \n",
       "25    gl.g5m3.app-id-23164.pro   \n",
       "26    gl.rzua.app-id-19546.pro   \n",
       "\n",
       "                                               job  status_code  \\\n",
       "0   rzua-gl-hmm-qlt-inmmmrsustopratinsciboprtci-01          200   \n",
       "1            l9ct-gl-hmm-qlt-inmmvpesgfactreply-01          200   \n",
       "2            l9ct-gl-hmm-qlt-inmstresgfactreply-01          200   \n",
       "3        l9ct-gl-hmm-qlt-inmmvpesgquestionscore-01          200   \n",
       "4        l9ct-gl-hmm-qlt-inmstresgquestionscore-01          200   \n",
       "5         kfcm-gl-hmm-qlt-inmstrfdbkfilldfrmfld-01          200   \n",
       "6         kfcm-gl-hmm-qlt-inmstrsaturationrules-01          200   \n",
       "7         kfcm-gl-hmm-qlt-inmstrfeedbckfrmfield-01          200   \n",
       "8         kfcm-gl-hmm-qlt-inmmvpfeedbckfrmshown-01          200   \n",
       "9           kfcm-gl-hmm-qlt-inmstrfeedbackforms-01          200   \n",
       "10        kfcm-gl-hmm-qlt-inmstrfeedbackoptions-01          200   \n",
       "11     l9ct-gl-hmm-qlt-inmmvpesgextdcoanloilgas-01          200   \n",
       "12     l9ct-gl-hmm-qlt-inmstresgextdcoanloilgas-01          200   \n",
       "13   l9ct-gl-hmm-qlt-inmmvpprodassetcorelations-01          200   \n",
       "14   l9ct-gl-hmm-qlt-inmstrprodassetcorelations-01          200   \n",
       "15    l9ct-gl-hmm-qlt-inmmvpprodassetsoilgasann-01          200   \n",
       "16    l9ct-gl-hmm-qlt-inmstrprodassetsoilgasann-01          200   \n",
       "17       l9ct-gl-hmm-qlt-inmmvpprodassetsoilgas-01          200   \n",
       "18       l9ct-gl-hmm-qlt-inmstrprodassetsoilgas-01          200   \n",
       "19       l9ct-gl-hmm-qlt-inmmvpproductionassets-01          200   \n",
       "20       l9ct-gl-hmm-qlt-inmstrproductionassets-01          200   \n",
       "21      l9ct-gl-hmm-qlt-inmmvpprodassestsannual-01          200   \n",
       "22      l9ct-gl-hmm-qlt-inmstrprodassestsannual-01          200   \n",
       "23       l9ct-gl-hmm-qlt-inmmrprodassestsannual-01          200   \n",
       "24    scat-gl-hmm-qlt-inmmvpparentchildsusthier-01          200   \n",
       "25  g5m3-gl-hmm-qlt-inmmrulesustmboprtincibsust-01          200   \n",
       "26         rzua-gl-hmm-qlt-inmmrulecntrctoukcog-01          200   \n",
       "\n",
       "                                              content  \n",
       "0   {'data': [], 'pagination': {'links': {'first':...  \n",
       "1   {'data': [], 'pagination': {'links': {'first':...  \n",
       "2   {'data': [], 'pagination': {'links': {'first':...  \n",
       "3   {'data': [], 'pagination': {'links': {'first':...  \n",
       "4   {'data': [], 'pagination': {'links': {'first':...  \n",
       "5   {'data': [], 'pagination': {'links': {'first':...  \n",
       "6   {'data': [], 'pagination': {'links': {'first':...  \n",
       "7   {'data': [], 'pagination': {'links': {'first':...  \n",
       "8   {'data': [], 'pagination': {'links': {'first':...  \n",
       "9   {'data': [], 'pagination': {'links': {'first':...  \n",
       "10  {'data': [], 'pagination': {'links': {'first':...  \n",
       "11  {'data': [], 'pagination': {'links': {'first':...  \n",
       "12  {'data': [], 'pagination': {'links': {'first':...  \n",
       "13  {'data': [], 'pagination': {'links': {'first':...  \n",
       "14  {'data': [], 'pagination': {'links': {'first':...  \n",
       "15  {'data': [], 'pagination': {'links': {'first':...  \n",
       "16  {'data': [], 'pagination': {'links': {'first':...  \n",
       "17  {'data': [], 'pagination': {'links': {'first':...  \n",
       "18  {'data': [], 'pagination': {'links': {'first':...  \n",
       "19  {'data': [], 'pagination': {'links': {'first':...  \n",
       "20  {'data': [], 'pagination': {'links': {'first':...  \n",
       "21  {'data': [], 'pagination': {'links': {'first':...  \n",
       "22  {'data': [], 'pagination': {'links': {'first':...  \n",
       "23  {'data': [], 'pagination': {'links': {'first':...  \n",
       "24  {'data': [], 'pagination': {'links': {'first':...  \n",
       "25  {'data': [], 'pagination': {'links': {'first':...  \n",
       "26  {'data': [], 'pagination': {'links': {'first':...  "
      ]
     },
     "execution_count": 7,
     "metadata": {},
     "output_type": "execute_result"
    }
   ],
   "source": [
    "dir_df_nnoruns = 'runs/no_runs/no_runs_{fecha}.csv'.format(fecha = date.today().strftime('%Y_%m_%d'))\n",
    "df_noruns.to_csv(dir_df_nnoruns, index = False); print(\"Guardado df no runs en:\\n\", dir_df_nnoruns, sep='')\n",
    "\n",
    "df_noruns"
   ]
  },
  {
   "cell_type": "code",
   "execution_count": 8,
   "metadata": {},
   "outputs": [
    {
     "data": {
      "text/plain": [
       "['rzua-gl-hmm-qlt-inmmmrsustopratinsciboprtci-01',\n",
       " 'l9ct-gl-hmm-qlt-inmmvpesgfactreply-01',\n",
       " 'l9ct-gl-hmm-qlt-inmstresgfactreply-01',\n",
       " 'l9ct-gl-hmm-qlt-inmmvpesgquestionscore-01',\n",
       " 'l9ct-gl-hmm-qlt-inmstresgquestionscore-01',\n",
       " 'kfcm-gl-hmm-qlt-inmstrfdbkfilldfrmfld-01',\n",
       " 'kfcm-gl-hmm-qlt-inmstrsaturationrules-01',\n",
       " 'kfcm-gl-hmm-qlt-inmstrfeedbckfrmfield-01',\n",
       " 'kfcm-gl-hmm-qlt-inmmvpfeedbckfrmshown-01',\n",
       " 'kfcm-gl-hmm-qlt-inmstrfeedbackforms-01',\n",
       " 'kfcm-gl-hmm-qlt-inmstrfeedbackoptions-01',\n",
       " 'l9ct-gl-hmm-qlt-inmmvpesgextdcoanloilgas-01',\n",
       " 'l9ct-gl-hmm-qlt-inmstresgextdcoanloilgas-01',\n",
       " 'l9ct-gl-hmm-qlt-inmmvpprodassetcorelations-01',\n",
       " 'l9ct-gl-hmm-qlt-inmstrprodassetcorelations-01',\n",
       " 'l9ct-gl-hmm-qlt-inmmvpprodassetsoilgasann-01',\n",
       " 'l9ct-gl-hmm-qlt-inmstrprodassetsoilgasann-01',\n",
       " 'l9ct-gl-hmm-qlt-inmmvpprodassetsoilgas-01',\n",
       " 'l9ct-gl-hmm-qlt-inmstrprodassetsoilgas-01',\n",
       " 'l9ct-gl-hmm-qlt-inmmvpproductionassets-01',\n",
       " 'l9ct-gl-hmm-qlt-inmstrproductionassets-01',\n",
       " 'l9ct-gl-hmm-qlt-inmmvpprodassestsannual-01',\n",
       " 'l9ct-gl-hmm-qlt-inmstrprodassestsannual-01',\n",
       " 'l9ct-gl-hmm-qlt-inmmrprodassestsannual-01',\n",
       " 'scat-gl-hmm-qlt-inmmvpparentchildsusthier-01',\n",
       " 'g5m3-gl-hmm-qlt-inmmrulesustmboprtincibsust-01',\n",
       " 'rzua-gl-hmm-qlt-inmmrulecntrctoukcog-01']"
      ]
     },
     "execution_count": 8,
     "metadata": {},
     "output_type": "execute_result"
    }
   ],
   "source": [
    "df_noruns.job.tolist()"
   ]
  }
 ],
 "metadata": {
  "kernelspec": {
   "display_name": "base",
   "language": "python",
   "name": "python3"
  },
  "language_info": {
   "codemirror_mode": {
    "name": "ipython",
    "version": 3
   },
   "file_extension": ".py",
   "mimetype": "text/x-python",
   "name": "python",
   "nbconvert_exporter": "python",
   "pygments_lexer": "ipython3",
   "version": "3.9.12"
  },
  "orig_nbformat": 4
 },
 "nbformat": 4,
 "nbformat_minor": 2
}
